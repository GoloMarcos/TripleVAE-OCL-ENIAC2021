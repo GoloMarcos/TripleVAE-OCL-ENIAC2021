{
  "nbformat": 4,
  "nbformat_minor": 0,
  "metadata": {
    "colab": {
      "name": "Resgata-Textos.ipynb",
      "provenance": [],
      "collapsed_sections": []
    },
    "kernelspec": {
      "name": "python3",
      "display_name": "Python 3"
    }
  },
  "cells": [
    {
      "cell_type": "code",
      "metadata": {
        "id": "ZLfpgo9cAIUr",
        "colab": {
          "base_uri": "https://localhost:8080/"
        },
        "outputId": "b0176af0-cfae-4856-d9cd-ce5a613a2d96"
      },
      "source": [
        "from google.colab import auth\n",
        "auth.authenticate_user()\n",
        "print('Authenticated')"
      ],
      "execution_count": null,
      "outputs": [
        {
          "output_type": "stream",
          "text": [
            "Authenticated\n"
          ],
          "name": "stdout"
        }
      ]
    },
    {
      "cell_type": "code",
      "metadata": {
        "id": "Lj_L0oQ5zr9M"
      },
      "source": [
        "import pandas"
      ],
      "execution_count": null,
      "outputs": []
    },
    {
      "cell_type": "code",
      "metadata": {
        "id": "8XKAzKnnpmHs"
      },
      "source": [
        "L = list()"
      ],
      "execution_count": null,
      "outputs": []
    },
    {
      "cell_type": "code",
      "metadata": {
        "id": "O58ORF7SaSjA"
      },
      "source": [
        "%%bigquery --project maiopro df_temp\n",
        "SELECT\n",
        "  Min(GKGRECORDID) Id,\n",
        "  Min(DATE(_PARTITIONTIME)) Date,\n",
        "  REGEXP_EXTRACT(Extras, '<PAGE_TITLE>(.*)</PAGE_TITLE>') Title,\n",
        "  Min(Locations) Lat_Long,\n",
        "FROM\n",
        "  `gdelt-bq.gdeltv2.gkg_partitioned`\n",
        "WHERE\n",
        "  Locations != '' and\n",
        "  EXTRACT(MONTH FROM DATE(_PARTITIONTIME)) = 9 and\n",
        "  EXTRACT(YEAR FROM DATE(_PARTITIONTIME)) = 2019 and\n",
        "  REGEXP_CONTAINS(Extras, '.*TITLE.*') and\n",
        "  (REGEXP_CONTAINS(REGEXP_EXTRACT(Extras, '<PAGE_TITLE>(.*)</PAGE_TITLE>'), 'Agriculture ') or \n",
        "  REGEXP_CONTAINS(REGEXP_EXTRACT(Extras, '<PAGE_TITLE>(.*)</PAGE_TITLE>'), ' agriculture '))\n",
        "GROUP BY Title\n",
        "ORDER BY Date ASC"
      ],
      "execution_count": null,
      "outputs": []
    },
    {
      "cell_type": "code",
      "metadata": {
        "colab": {
          "base_uri": "https://localhost:8080/",
          "height": 436
        },
        "id": "vUgbP5mv8eKv",
        "outputId": "efd35c5a-e5fb-481b-fb0a-c208785c6a99"
      },
      "source": [
        "l = []\n",
        "for lat_log in df_temp['Lat_Long']:\n",
        "  l.append(lat_log.split(';'))\n",
        "\n",
        "\n",
        "df_temp['Lat_Long'] = l\n",
        "\n",
        "L.append(df_temp) \n",
        "\n",
        "df_teste = pandas.concat(L, ignore_index=True)\n",
        "print(len(df_teste))\n",
        "\n",
        "df_teste"
      ],
      "execution_count": null,
      "outputs": [
        {
          "output_type": "stream",
          "text": [
            "5076\n"
          ],
          "name": "stdout"
        },
        {
          "output_type": "execute_result",
          "data": {
            "text/html": [
              "<div>\n",
              "<style scoped>\n",
              "    .dataframe tbody tr th:only-of-type {\n",
              "        vertical-align: middle;\n",
              "    }\n",
              "\n",
              "    .dataframe tbody tr th {\n",
              "        vertical-align: top;\n",
              "    }\n",
              "\n",
              "    .dataframe thead th {\n",
              "        text-align: right;\n",
              "    }\n",
              "</style>\n",
              "<table border=\"1\" class=\"dataframe\">\n",
              "  <thead>\n",
              "    <tr style=\"text-align: right;\">\n",
              "      <th></th>\n",
              "      <th>Id</th>\n",
              "      <th>Date</th>\n",
              "      <th>Title</th>\n",
              "      <th>Lat_Long</th>\n",
              "    </tr>\n",
              "  </thead>\n",
              "  <tbody>\n",
              "    <tr>\n",
              "      <th>0</th>\n",
              "      <td>20190922211500-T1569</td>\n",
              "      <td>2019-09-22</td>\n",
              "      <td>Howdi Modi time has come for a decisive battle...</td>\n",
              "      <td>[3#Houston, Texas, United States#US#USTX#29.76...</td>\n",
              "    </tr>\n",
              "    <tr>\n",
              "      <th>1</th>\n",
              "      <td>20190922210000-T942</td>\n",
              "      <td>2019-09-22</td>\n",
              "      <td>Howdy Modi Pm Modi Stands Claps As Donald Trum...</td>\n",
              "      <td>[4#Kalyan, Maharashtra, India#IN#IN16#19.25#73...</td>\n",
              "    </tr>\n",
              "    <tr>\n",
              "      <th>2</th>\n",
              "      <td>20190922183000-735</td>\n",
              "      <td>2019-09-22</td>\n",
              "      <td>The State Of Terrorism In The World Today</td>\n",
              "      <td>[1#Afghanistan#AF#AF#33#66#AF, 4#Balaka, SéU, ...</td>\n",
              "    </tr>\n",
              "    <tr>\n",
              "      <th>3</th>\n",
              "      <td>20190922231500-T1313</td>\n",
              "      <td>2019-09-22</td>\n",
              "      <td>Howdy Modi Modis tough attitude against terror...</td>\n",
              "      <td>[4#Mumbai, Maharashtra, India#IN#IN16#18.975#7...</td>\n",
              "    </tr>\n",
              "    <tr>\n",
              "      <th>4</th>\n",
              "      <td>20190922213000-T2035</td>\n",
              "      <td>2019-09-22</td>\n",
              "      <td>Howdy Modi: Prime Minister Narendra Modi targe...</td>\n",
              "      <td>[3#Houston, Texas, United States#US#USTX#29.76...</td>\n",
              "    </tr>\n",
              "    <tr>\n",
              "      <th>...</th>\n",
              "      <td>...</td>\n",
              "      <td>...</td>\n",
              "      <td>...</td>\n",
              "      <td>...</td>\n",
              "    </tr>\n",
              "    <tr>\n",
              "      <th>5071</th>\n",
              "      <td>20200531000000-424</td>\n",
              "      <td>2020-05-31</td>\n",
              "      <td>Andrew McCarthy: Laws against rioting and terr...</td>\n",
              "      <td>[2#New York, United States#US#USNY#42.1497#-74...</td>\n",
              "    </tr>\n",
              "    <tr>\n",
              "      <th>5072</th>\n",
              "      <td>20200531220000-171</td>\n",
              "      <td>2020-05-31</td>\n",
              "      <td>'We're sick of it': Anger over US police terro...</td>\n",
              "      <td>[2#New York, United States#US#USNY#42.1497#-74...</td>\n",
              "    </tr>\n",
              "    <tr>\n",
              "      <th>5073</th>\n",
              "      <td>20200531170000-516</td>\n",
              "      <td>2020-05-31</td>\n",
              "      <td>Riots were clearly pre-planned domestic terror...</td>\n",
              "      <td>[2#Minnesota, United States#US#USMN#45.7326#-9...</td>\n",
              "    </tr>\n",
              "    <tr>\n",
              "      <th>5074</th>\n",
              "      <td>20200531111500-812</td>\n",
              "      <td>2020-05-31</td>\n",
              "      <td>Central Bank of Kuwait Keen on Combatting Mone...</td>\n",
              "      <td>[1#Kuwait#KU#KU#29.5#47.75#KU]</td>\n",
              "    </tr>\n",
              "    <tr>\n",
              "      <th>5075</th>\n",
              "      <td>20200531191500-453</td>\n",
              "      <td>2020-05-31</td>\n",
              "      <td>AG Barr: Antifa Violence Is Domestic Terrorism...</td>\n",
              "      <td>[1#United States#US#US#39.828175#-98.5795#US]</td>\n",
              "    </tr>\n",
              "  </tbody>\n",
              "</table>\n",
              "<p>5076 rows × 4 columns</p>\n",
              "</div>"
            ],
            "text/plain": [
              "                        Id  ...                                           Lat_Long\n",
              "0     20190922211500-T1569  ...  [3#Houston, Texas, United States#US#USTX#29.76...\n",
              "1      20190922210000-T942  ...  [4#Kalyan, Maharashtra, India#IN#IN16#19.25#73...\n",
              "2       20190922183000-735  ...  [1#Afghanistan#AF#AF#33#66#AF, 4#Balaka, SéU, ...\n",
              "3     20190922231500-T1313  ...  [4#Mumbai, Maharashtra, India#IN#IN16#18.975#7...\n",
              "4     20190922213000-T2035  ...  [3#Houston, Texas, United States#US#USTX#29.76...\n",
              "...                    ...  ...                                                ...\n",
              "5071    20200531000000-424  ...  [2#New York, United States#US#USNY#42.1497#-74...\n",
              "5072    20200531220000-171  ...  [2#New York, United States#US#USNY#42.1497#-74...\n",
              "5073    20200531170000-516  ...  [2#Minnesota, United States#US#USMN#45.7326#-9...\n",
              "5074    20200531111500-812  ...                     [1#Kuwait#KU#KU#29.5#47.75#KU]\n",
              "5075    20200531191500-453  ...      [1#United States#US#US#39.828175#-98.5795#US]\n",
              "\n",
              "[5076 rows x 4 columns]"
            ]
          },
          "metadata": {
            "tags": []
          },
          "execution_count": 292
        }
      ]
    },
    {
      "cell_type": "code",
      "metadata": {
        "id": "JDZRz8d0qUio"
      },
      "source": [
        "df = df_teste[:6000]"
      ],
      "execution_count": null,
      "outputs": []
    },
    {
      "cell_type": "code",
      "metadata": {
        "id": "JLlvrGAI8ZoD",
        "colab": {
          "base_uri": "https://localhost:8080/",
          "height": 419
        },
        "outputId": "2e03d8fe-45a7-41de-854e-81ad73f9eb13"
      },
      "source": [
        "df"
      ],
      "execution_count": null,
      "outputs": [
        {
          "output_type": "execute_result",
          "data": {
            "text/html": [
              "<div>\n",
              "<style scoped>\n",
              "    .dataframe tbody tr th:only-of-type {\n",
              "        vertical-align: middle;\n",
              "    }\n",
              "\n",
              "    .dataframe tbody tr th {\n",
              "        vertical-align: top;\n",
              "    }\n",
              "\n",
              "    .dataframe thead th {\n",
              "        text-align: right;\n",
              "    }\n",
              "</style>\n",
              "<table border=\"1\" class=\"dataframe\">\n",
              "  <thead>\n",
              "    <tr style=\"text-align: right;\">\n",
              "      <th></th>\n",
              "      <th>Id</th>\n",
              "      <th>Date</th>\n",
              "      <th>Title</th>\n",
              "      <th>Lat_Long</th>\n",
              "    </tr>\n",
              "  </thead>\n",
              "  <tbody>\n",
              "    <tr>\n",
              "      <th>0</th>\n",
              "      <td>20190922183000-562</td>\n",
              "      <td>2019-09-22</td>\n",
              "      <td>US beats Switzerland in 'richest nation' ratin...</td>\n",
              "      <td>[1#Germany#GM#GM#51.5#10.5#GM, 1#China#CH#CH#3...</td>\n",
              "    </tr>\n",
              "    <tr>\n",
              "      <th>1</th>\n",
              "      <td>20190922173000-1137</td>\n",
              "      <td>2019-09-22</td>\n",
              "      <td>US Fed divided on policy amid trade war uncert...</td>\n",
              "      <td>[2#New York, United States#US#USNY#42.1497#-74...</td>\n",
              "    </tr>\n",
              "    <tr>\n",
              "      <th>2</th>\n",
              "      <td>20190922173000-809</td>\n",
              "      <td>2019-09-22</td>\n",
              "      <td>Vietnam war hero who downed 7 enemy planes die...</td>\n",
              "      <td>[1#Vietnam, Republic Of#VM#VM#16.166667#107.83...</td>\n",
              "    </tr>\n",
              "    <tr>\n",
              "      <th>3</th>\n",
              "      <td>20190922221500-1104</td>\n",
              "      <td>2019-09-22</td>\n",
              "      <td>Medieval Studies Organization at War With Itse...</td>\n",
              "      <td>[3#Washington, Washington, United States#US#US...</td>\n",
              "    </tr>\n",
              "    <tr>\n",
              "      <th>4</th>\n",
              "      <td>20190922180000-T222</td>\n",
              "      <td>2019-09-22</td>\n",
              "      <td>Klimabericht: 2015 bis 2019 war die wohl w&amp;#xE...</td>\n",
              "      <td>[1#Greenland#GL#GL#72#-40#GL, 4#Paris, France ...</td>\n",
              "    </tr>\n",
              "    <tr>\n",
              "      <th>...</th>\n",
              "      <td>...</td>\n",
              "      <td>...</td>\n",
              "      <td>...</td>\n",
              "      <td>...</td>\n",
              "    </tr>\n",
              "    <tr>\n",
              "      <th>5995</th>\n",
              "      <td>20191010213000-27</td>\n",
              "      <td>2019-10-10</td>\n",
              "      <td>Danger: Portuguese Man O'War on Banna Strand |...</td>\n",
              "      <td>[4#Banna Strand, Kerry, Ireland#EI#EI11#52.341...</td>\n",
              "    </tr>\n",
              "    <tr>\n",
              "      <th>5996</th>\n",
              "      <td>20191010093000-1361</td>\n",
              "      <td>2019-10-10</td>\n",
              "      <td>National War Memorial to have coffee table boo...</td>\n",
              "      <td>[4#Jammu, Jammu And Kashmir, India#IN#IN12#32....</td>\n",
              "    </tr>\n",
              "    <tr>\n",
              "      <th>5997</th>\n",
              "      <td>20191010034500-349</td>\n",
              "      <td>2019-10-10</td>\n",
              "      <td>18-Year Old US Soldiers Now Entering Afghanist...</td>\n",
              "      <td>[1#Afghanistan#AF#AF#33#66#AF, 1#Syria#SY#SY#3...</td>\n",
              "    </tr>\n",
              "    <tr>\n",
              "      <th>5998</th>\n",
              "      <td>20191010120000-408</td>\n",
              "      <td>2019-10-10</td>\n",
              "      <td>Jack Ma shakes off tariff war to top China's 2...</td>\n",
              "      <td>[4#Muyuan, Jiangxi, China#CH#CH03#27.5343#115....</td>\n",
              "    </tr>\n",
              "    <tr>\n",
              "      <th>5999</th>\n",
              "      <td>20191010090000-1049</td>\n",
              "      <td>2019-10-10</td>\n",
              "      <td>National War Memorial to soon have coffee tabl...</td>\n",
              "      <td>[4#Jammu, Jammu And Kashmir, India#IN#IN12#32....</td>\n",
              "    </tr>\n",
              "  </tbody>\n",
              "</table>\n",
              "<p>6000 rows × 4 columns</p>\n",
              "</div>"
            ],
            "text/plain": [
              "                       Id  ...                                           Lat_Long\n",
              "0      20190922183000-562  ...  [1#Germany#GM#GM#51.5#10.5#GM, 1#China#CH#CH#3...\n",
              "1     20190922173000-1137  ...  [2#New York, United States#US#USNY#42.1497#-74...\n",
              "2      20190922173000-809  ...  [1#Vietnam, Republic Of#VM#VM#16.166667#107.83...\n",
              "3     20190922221500-1104  ...  [3#Washington, Washington, United States#US#US...\n",
              "4     20190922180000-T222  ...  [1#Greenland#GL#GL#72#-40#GL, 4#Paris, France ...\n",
              "...                   ...  ...                                                ...\n",
              "5995    20191010213000-27  ...  [4#Banna Strand, Kerry, Ireland#EI#EI11#52.341...\n",
              "5996  20191010093000-1361  ...  [4#Jammu, Jammu And Kashmir, India#IN#IN12#32....\n",
              "5997   20191010034500-349  ...  [1#Afghanistan#AF#AF#33#66#AF, 1#Syria#SY#SY#3...\n",
              "5998   20191010120000-408  ...  [4#Muyuan, Jiangxi, China#CH#CH03#27.5343#115....\n",
              "5999  20191010090000-1049  ...  [4#Jammu, Jammu And Kashmir, India#IN#IN12#32....\n",
              "\n",
              "[6000 rows x 4 columns]"
            ]
          },
          "metadata": {
            "tags": []
          },
          "execution_count": 272
        }
      ]
    },
    {
      "cell_type": "code",
      "metadata": {
        "id": "OvOBZH6jk792"
      },
      "source": [
        "df.to_pickle('War.plk')"
      ],
      "execution_count": null,
      "outputs": []
    },
    {
      "cell_type": "code",
      "metadata": {
        "id": "Ox1zoM7Rdn30",
        "colab": {
          "base_uri": "https://localhost:8080/"
        },
        "outputId": "def322b7-bb15-4e7f-ef5b-deb15eb9ca27"
      },
      "source": [
        "from google.colab import drive\n",
        "drive.mount('/content/drive')"
      ],
      "execution_count": null,
      "outputs": [
        {
          "output_type": "stream",
          "text": [
            "Mounted at /content/drive\n"
          ],
          "name": "stdout"
        }
      ]
    },
    {
      "cell_type": "code",
      "metadata": {
        "colab": {
          "base_uri": "https://localhost:8080/"
        },
        "id": "TGSDNZHRFSok",
        "outputId": "e42c8a1a-d602-429a-a369-b28e2dcdea0b"
      },
      "source": [
        "cd /content/drive/MyDrive/USP/projeto/artigos/ENIAC-10-GDELT/Datasets/GDELT/"
      ],
      "execution_count": null,
      "outputs": [
        {
          "output_type": "stream",
          "text": [
            "/content/drive/MyDrive/USP/projeto/artigos/ENIAC-10-GDELT/Datasets/GDELT\n"
          ],
          "name": "stdout"
        }
      ]
    },
    {
      "cell_type": "code",
      "metadata": {
        "id": "rgkQXalKAP7c"
      },
      "source": [
        "%%bigquery --project projtubas df_topicos\n",
        "SELECT\n",
        "  Topic\n",
        "FROM\n",
        "  `gdelt-bq.covid19.onlinenews`\n",
        "GROUP BY Topic"
      ],
      "execution_count": null,
      "outputs": []
    },
    {
      "cell_type": "code",
      "metadata": {
        "id": "IpAqbMNiAcxt",
        "colab": {
          "base_uri": "https://localhost:8080/",
          "height": 390
        },
        "outputId": "a865db29-32f7-4d38-df82-e5332ce44d3a"
      },
      "source": [
        "df_topicos"
      ],
      "execution_count": null,
      "outputs": [
        {
          "output_type": "execute_result",
          "data": {
            "text/html": [
              "<div>\n",
              "<style scoped>\n",
              "    .dataframe tbody tr th:only-of-type {\n",
              "        vertical-align: middle;\n",
              "    }\n",
              "\n",
              "    .dataframe tbody tr th {\n",
              "        vertical-align: top;\n",
              "    }\n",
              "\n",
              "    .dataframe thead th {\n",
              "        text-align: right;\n",
              "    }\n",
              "</style>\n",
              "<table border=\"1\" class=\"dataframe\">\n",
              "  <thead>\n",
              "    <tr style=\"text-align: right;\">\n",
              "      <th></th>\n",
              "      <th>Topic</th>\n",
              "    </tr>\n",
              "  </thead>\n",
              "  <tbody>\n",
              "    <tr>\n",
              "      <th>0</th>\n",
              "      <td>Quarantine</td>\n",
              "    </tr>\n",
              "    <tr>\n",
              "      <th>1</th>\n",
              "      <td>Panic</td>\n",
              "    </tr>\n",
              "    <tr>\n",
              "      <th>2</th>\n",
              "      <td>Ventilators</td>\n",
              "    </tr>\n",
              "    <tr>\n",
              "      <th>3</th>\n",
              "      <td>Cases</td>\n",
              "    </tr>\n",
              "    <tr>\n",
              "      <th>4</th>\n",
              "      <td>Prices</td>\n",
              "    </tr>\n",
              "    <tr>\n",
              "      <th>5</th>\n",
              "      <td>Falsehoods</td>\n",
              "    </tr>\n",
              "    <tr>\n",
              "      <th>6</th>\n",
              "      <td>SocialDistancing</td>\n",
              "    </tr>\n",
              "    <tr>\n",
              "      <th>7</th>\n",
              "      <td>Shortages</td>\n",
              "    </tr>\n",
              "    <tr>\n",
              "      <th>8</th>\n",
              "      <td>Masks</td>\n",
              "    </tr>\n",
              "    <tr>\n",
              "      <th>9</th>\n",
              "      <td>Testing</td>\n",
              "    </tr>\n",
              "    <tr>\n",
              "      <th>10</th>\n",
              "      <td>Covid19</td>\n",
              "    </tr>\n",
              "  </tbody>\n",
              "</table>\n",
              "</div>"
            ],
            "text/plain": [
              "               Topic\n",
              "0         Quarantine\n",
              "1              Panic\n",
              "2        Ventilators\n",
              "3              Cases\n",
              "4             Prices\n",
              "5         Falsehoods\n",
              "6   SocialDistancing\n",
              "7          Shortages\n",
              "8              Masks\n",
              "9            Testing\n",
              "10           Covid19"
            ]
          },
          "metadata": {
            "tags": []
          },
          "execution_count": 16
        }
      ]
    },
    {
      "cell_type": "code",
      "metadata": {
        "id": "6eYG3yHoAcv4"
      },
      "source": [
        "%%bigquery --project projtubas df_covid\n",
        "SELECT \n",
        "  Min(DateTime) as data, Title\n",
        "FROM\n",
        "  `gdelt-bq.covid19.onlinenews`\n",
        "WHERE EXTRACT(MONTH FROM DateTime) = 07 and EXTRACT(DAY FROM DateTime) = 21 and EXTRACT(YEAR FROM DateTime) = 2020\n",
        "GROUP BY Title\n",
        "ORDER BY Min(DateTime)\n",
        "LIMIT 123"
      ],
      "execution_count": null,
      "outputs": []
    },
    {
      "cell_type": "code",
      "metadata": {
        "id": "wARa30UXBvTv",
        "colab": {
          "base_uri": "https://localhost:8080/",
          "height": 419
        },
        "outputId": "d483f01a-f5e0-4f36-e044-66d0c6413b8a"
      },
      "source": [
        "df_covid"
      ],
      "execution_count": null,
      "outputs": [
        {
          "output_type": "execute_result",
          "data": {
            "text/html": [
              "<div>\n",
              "<style scoped>\n",
              "    .dataframe tbody tr th:only-of-type {\n",
              "        vertical-align: middle;\n",
              "    }\n",
              "\n",
              "    .dataframe tbody tr th {\n",
              "        vertical-align: top;\n",
              "    }\n",
              "\n",
              "    .dataframe thead th {\n",
              "        text-align: right;\n",
              "    }\n",
              "</style>\n",
              "<table border=\"1\" class=\"dataframe\">\n",
              "  <thead>\n",
              "    <tr style=\"text-align: right;\">\n",
              "      <th></th>\n",
              "      <th>data</th>\n",
              "      <th>Title</th>\n",
              "    </tr>\n",
              "  </thead>\n",
              "  <tbody>\n",
              "    <tr>\n",
              "      <th>0</th>\n",
              "      <td>2020-07-21 00:01:26+00:00</td>\n",
              "      <td>Ex-Assembly speaker Silver sentenced to 6 1/2 ...</td>\n",
              "    </tr>\n",
              "    <tr>\n",
              "      <th>1</th>\n",
              "      <td>2020-07-21 00:01:28+00:00</td>\n",
              "      <td>Iowa cattle growers ask Congress to address a ...</td>\n",
              "    </tr>\n",
              "    <tr>\n",
              "      <th>2</th>\n",
              "      <td>2020-07-21 00:01:29+00:00</td>\n",
              "      <td>Changing Landscape Could Pressure Hedge Funds ...</td>\n",
              "    </tr>\n",
              "    <tr>\n",
              "      <th>3</th>\n",
              "      <td>2020-07-21 00:01:30+00:00</td>\n",
              "      <td>Winn-Dixie to require masks in stores</td>\n",
              "    </tr>\n",
              "    <tr>\n",
              "      <th>4</th>\n",
              "      <td>2020-07-21 00:01:30+00:00</td>\n",
              "      <td>\"We've Worked Hard for You. Don't Take Our Rig...</td>\n",
              "    </tr>\n",
              "    <tr>\n",
              "      <th>...</th>\n",
              "      <td>...</td>\n",
              "      <td>...</td>\n",
              "    </tr>\n",
              "    <tr>\n",
              "      <th>118</th>\n",
              "      <td>2020-07-21 00:01:48+00:00</td>\n",
              "      <td>7 New Cases of Coronavirus have been Confirmed...</td>\n",
              "    </tr>\n",
              "    <tr>\n",
              "      <th>119</th>\n",
              "      <td>2020-07-21 00:01:48+00:00</td>\n",
              "      <td>Another Coronavirus Vaccine Shows Promising Re...</td>\n",
              "    </tr>\n",
              "    <tr>\n",
              "      <th>120</th>\n",
              "      <td>2020-07-21 00:01:48+00:00</td>\n",
              "      <td>Theatre Victoria Announces Cancellation of Mus...</td>\n",
              "    </tr>\n",
              "    <tr>\n",
              "      <th>121</th>\n",
              "      <td>2020-07-21 00:01:48+00:00</td>\n",
              "      <td>Florida Teachers Sue To Block School Coronavir...</td>\n",
              "    </tr>\n",
              "    <tr>\n",
              "      <th>122</th>\n",
              "      <td>2020-07-21 00:01:48+00:00</td>\n",
              "      <td>Editorial: Meeting the immediate needs of UW's...</td>\n",
              "    </tr>\n",
              "  </tbody>\n",
              "</table>\n",
              "<p>123 rows × 2 columns</p>\n",
              "</div>"
            ],
            "text/plain": [
              "                         data                                              Title\n",
              "0   2020-07-21 00:01:26+00:00  Ex-Assembly speaker Silver sentenced to 6 1/2 ...\n",
              "1   2020-07-21 00:01:28+00:00  Iowa cattle growers ask Congress to address a ...\n",
              "2   2020-07-21 00:01:29+00:00  Changing Landscape Could Pressure Hedge Funds ...\n",
              "3   2020-07-21 00:01:30+00:00              Winn-Dixie to require masks in stores\n",
              "4   2020-07-21 00:01:30+00:00  \"We've Worked Hard for You. Don't Take Our Rig...\n",
              "..                        ...                                                ...\n",
              "118 2020-07-21 00:01:48+00:00  7 New Cases of Coronavirus have been Confirmed...\n",
              "119 2020-07-21 00:01:48+00:00  Another Coronavirus Vaccine Shows Promising Re...\n",
              "120 2020-07-21 00:01:48+00:00  Theatre Victoria Announces Cancellation of Mus...\n",
              "121 2020-07-21 00:01:48+00:00  Florida Teachers Sue To Block School Coronavir...\n",
              "122 2020-07-21 00:01:48+00:00  Editorial: Meeting the immediate needs of UW's...\n",
              "\n",
              "[123 rows x 2 columns]"
            ]
          },
          "metadata": {
            "tags": []
          },
          "execution_count": 18
        }
      ]
    },
    {
      "cell_type": "code",
      "metadata": {
        "id": "5DfKTSKAENpy"
      },
      "source": [
        "df_covid.to_csv('/content/drive/My Drive/usp/projeto/3AI/Datasets/Texto Livre com Data/Treino/Covid19.csv')"
      ],
      "execution_count": null,
      "outputs": []
    }
  ]
}